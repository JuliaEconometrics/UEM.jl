{
 "cells": [
  {
   "cell_type": "code",
   "execution_count": null,
   "metadata": {
    "collapsed": true
   },
   "outputs": [],
   "source": [
    "#Pkg.update()"
   ]
  },
  {
   "cell_type": "code",
   "execution_count": 2,
   "metadata": {},
   "outputs": [
    {
     "name": "stderr",
     "output_type": "stream",
     "text": [
      "\u001b[1m\u001b[36mINFO: \u001b[39m\u001b[22m\u001b[36mPackage UEM is not installed\n",
      "\u001b[39m"
     ]
    }
   ],
   "source": [
    "Pkg.rm(\"UEM\")"
   ]
  },
  {
   "cell_type": "code",
   "execution_count": 3,
   "metadata": {},
   "outputs": [
    {
     "name": "stderr",
     "output_type": "stream",
     "text": [
      "\u001b[1m\u001b[36mINFO: \u001b[39m\u001b[22m\u001b[36mCloning UEM from https://github.com/JuliaEconometrics/UEM.jl.git\n",
      "\u001b[39m\u001b[1m\u001b[36mINFO: \u001b[39m\u001b[22m\u001b[36mComputing changes...\n",
      "\u001b[39m\u001b[1m\u001b[36mINFO: \u001b[39m\u001b[22m\u001b[36mNo packages to install, update or remove\n",
      "\u001b[39m"
     ]
    }
   ],
   "source": [
    "Pkg.clone(\"https://github.com/JuliaEconometrics/UEM.jl.git\")"
   ]
  },
  {
   "cell_type": "code",
   "execution_count": null,
   "metadata": {
    "collapsed": true
   },
   "outputs": [],
   "source": [
    "Pkg.add(\"RDatasets\")"
   ]
  },
  {
   "cell_type": "code",
   "execution_count": 4,
   "metadata": {},
   "outputs": [
    {
     "name": "stderr",
     "output_type": "stream",
     "text": [
      "\u001b[1m\u001b[36mINFO: \u001b[39m\u001b[22m\u001b[36mRecompiling stale cache file /Users/jbsc/.julia/lib/v0.6/UEM.ji for module UEM.\n",
      "\u001b[39m"
     ]
    }
   ],
   "source": [
    "using DataFrames, RDatasets, UEM"
   ]
  },
  {
   "cell_type": "code",
   "execution_count": 5,
   "metadata": {},
   "outputs": [
    {
     "data": {
      "text/html": [
       "<table class=\"data-frame\"><thead><tr><th></th><th>County</th><th>Year</th><th>CRMRTE</th><th>PrBarr</th><th>PrbConv</th><th>PrbPris</th><th>AvgSen</th><th>PolPC</th><th>Density</th><th>TaxPC</th><th>Region</th><th>SMSA</th><th>PctMin</th><th>WCon</th><th>WTuc</th><th>WTrd</th><th>WFir</th><th>WSer</th><th>WMfg</th><th>WFed</th><th>WSta</th><th>WLoc</th><th>Mix</th><th>PctYMle</th></tr></thead><tbody><tr><th>1</th><td>1</td><td>81</td><td>0.0398849</td><td>0.289696</td><td>0.402062</td><td>0.472222</td><td>5.61</td><td>0.0017868</td><td>2.307159</td><td>25.69763</td><td>central</td><td>no</td><td>20.2187</td><td>206.4803</td><td>333.6209</td><td>182.333</td><td>272.4492</td><td>215.7335</td><td>229.12</td><td>409.37</td><td>236.24</td><td>231.47</td><td>0.0999179</td><td>0.0876968</td></tr><tr><th>2</th><td>1</td><td>82</td><td>0.0383449</td><td>0.338111</td><td>0.433005</td><td>0.506993</td><td>5.59</td><td>0.0017666</td><td>2.330254</td><td>24.87425</td><td>central</td><td>no</td><td>20.2187</td><td>212.7542</td><td>369.2964</td><td>189.5414</td><td>300.8788</td><td>231.5767</td><td>240.33</td><td>419.7</td><td>253.88</td><td>236.79</td><td>0.1030491</td><td>0.0863767</td></tr><tr><th>3</th><td>1</td><td>83</td><td>0.0303048</td><td>0.330449</td><td>0.525703</td><td>0.479705</td><td>5.8</td><td>0.0018358</td><td>2.341801</td><td>26.45144</td><td>central</td><td>no</td><td>20.2187</td><td>219.7802</td><td>1394.803</td><td>196.6395</td><td>309.9696</td><td>240.1568</td><td>269.7</td><td>438.85</td><td>250.36</td><td>248.58</td><td>0.0806787</td><td>0.0850909</td></tr><tr><th>4</th><td>1</td><td>84</td><td>0.0347259</td><td>0.362525</td><td>0.604706</td><td>0.520104</td><td>6.89</td><td>0.0018859</td><td>2.34642</td><td>26.84235</td><td>central</td><td>no</td><td>20.2187</td><td>223.4238</td><td>398.8604</td><td>200.5629</td><td>350.0863</td><td>252.4477</td><td>281.74</td><td>459.17</td><td>261.93</td><td>264.38</td><td>0.0785035</td><td>0.0838333</td></tr><tr><th>5</th><td>1</td><td>85</td><td>0.036573</td><td>0.325395</td><td>0.578723</td><td>0.497059</td><td>6.55</td><td>0.0019244</td><td>2.364896</td><td>28.14034</td><td>central</td><td>no</td><td>20.2187</td><td>243.7562</td><td>358.783</td><td>206.8827</td><td>383.0707</td><td>261.0861</td><td>298.88</td><td>490.43</td><td>281.44</td><td>288.58</td><td>0.0932486</td><td>0.0823065</td></tr></tbody></table>"
      ],
      "text/plain": [
       "5×24 DataFrames.DataFrame\n",
       "│ Row │ County │ Year │ CRMRTE    │ PrBarr   │ PrbConv  │ PrbPris  │ AvgSen │\n",
       "├─────┼────────┼──────┼───────────┼──────────┼──────────┼──────────┼────────┤\n",
       "│ 1   │ 1      │ 81   │ 0.0398849 │ 0.289696 │ 0.402062 │ 0.472222 │ 5.61   │\n",
       "│ 2   │ 1      │ 82   │ 0.0383449 │ 0.338111 │ 0.433005 │ 0.506993 │ 5.59   │\n",
       "│ 3   │ 1      │ 83   │ 0.0303048 │ 0.330449 │ 0.525703 │ 0.479705 │ 5.8    │\n",
       "│ 4   │ 1      │ 84   │ 0.0347259 │ 0.362525 │ 0.604706 │ 0.520104 │ 6.89   │\n",
       "│ 5   │ 1      │ 85   │ 0.036573  │ 0.325395 │ 0.578723 │ 0.497059 │ 6.55   │\n",
       "\n",
       "│ Row │ PolPC     │ Density │ TaxPC   │ Region    │ SMSA │ PctMin  │ WCon    │\n",
       "├─────┼───────────┼─────────┼─────────┼───────────┼──────┼─────────┼─────────┤\n",
       "│ 1   │ 0.0017868 │ 2.30716 │ 25.6976 │ \"central\" │ \"no\" │ 20.2187 │ 206.48  │\n",
       "│ 2   │ 0.0017666 │ 2.33025 │ 24.8742 │ \"central\" │ \"no\" │ 20.2187 │ 212.754 │\n",
       "│ 3   │ 0.0018358 │ 2.3418  │ 26.4514 │ \"central\" │ \"no\" │ 20.2187 │ 219.78  │\n",
       "│ 4   │ 0.0018859 │ 2.34642 │ 26.8423 │ \"central\" │ \"no\" │ 20.2187 │ 223.424 │\n",
       "│ 5   │ 0.0019244 │ 2.3649  │ 28.1403 │ \"central\" │ \"no\" │ 20.2187 │ 243.756 │\n",
       "\n",
       "│ Row │ WTuc    │ WTrd    │ WFir    │ WSer    │ WMfg   │ WFed   │ WSta   │\n",
       "├─────┼─────────┼─────────┼─────────┼─────────┼────────┼────────┼────────┤\n",
       "│ 1   │ 333.621 │ 182.333 │ 272.449 │ 215.733 │ 229.12 │ 409.37 │ 236.24 │\n",
       "│ 2   │ 369.296 │ 189.541 │ 300.879 │ 231.577 │ 240.33 │ 419.7  │ 253.88 │\n",
       "│ 3   │ 1394.8  │ 196.639 │ 309.97  │ 240.157 │ 269.7  │ 438.85 │ 250.36 │\n",
       "│ 4   │ 398.86  │ 200.563 │ 350.086 │ 252.448 │ 281.74 │ 459.17 │ 261.93 │\n",
       "│ 5   │ 358.783 │ 206.883 │ 383.071 │ 261.086 │ 298.88 │ 490.43 │ 281.44 │\n",
       "\n",
       "│ Row │ WLoc   │ Mix       │ PctYMle   │\n",
       "├─────┼────────┼───────────┼───────────┤\n",
       "│ 1   │ 231.47 │ 0.0999179 │ 0.0876968 │\n",
       "│ 2   │ 236.79 │ 0.103049  │ 0.0863767 │\n",
       "│ 3   │ 248.58 │ 0.0806787 │ 0.0850909 │\n",
       "│ 4   │ 264.38 │ 0.0785035 │ 0.0838333 │\n",
       "│ 5   │ 288.58 │ 0.0932486 │ 0.0823065 │"
      ]
     },
     "execution_count": 5,
     "metadata": {},
     "output_type": "execute_result"
    }
   ],
   "source": [
    "df = dataset(\"plm\",\"Crime\")\n",
    "pool!(df, [:Region, :SMSA])\n",
    "df[1:5,:]"
   ]
  },
  {
   "cell_type": "markdown",
   "metadata": {},
   "source": [
    "A formula is formed with the following structure: `@formula(response ~ X1 + X2 + X3)`...\n",
    "\n",
    "For interactions use: `X1 * X2` or `X3 & X4` depending on whether you want to include main effects as well."
   ]
  },
  {
   "cell_type": "code",
   "execution_count": 6,
   "metadata": {},
   "outputs": [
    {
     "data": {
      "text/plain": [
       "Formula: CRMRTE ~ PrbConv + PrbPris + Density"
      ]
     },
     "execution_count": 6,
     "metadata": {},
     "output_type": "execute_result"
    }
   ],
   "source": [
    "fm = @formula(CRMRTE ~ PrbConv + PrbPris + Density)"
   ]
  },
  {
   "cell_type": "code",
   "execution_count": 12,
   "metadata": {},
   "outputs": [
    {
     "data": {
      "text/plain": [
       ":FE"
      ]
     },
     "execution_count": 12,
     "metadata": {},
     "output_type": "execute_result"
    }
   ],
   "source": [
    "estimator = :PO # Pooling OLS\n",
    "#estimator = :FD # First-Difference\n",
    "#estimator = :BE # Between\n",
    "#estimator = :FE # Fixed Effects\n",
    "#estimator = :RE # Random Effects"
   ]
  },
  {
   "cell_type": "code",
   "execution_count": 24,
   "metadata": {},
   "outputs": [
    {
     "data": {
      "text/plain": [
       ":Panel"
      ]
     },
     "execution_count": 24,
     "metadata": {},
     "output_type": "execute_result"
    }
   ],
   "source": [
    "Effect = :Panel\n",
    "#Effect = :Temporal\n",
    "#Effect = :TwoWays"
   ]
  },
  {
   "cell_type": "code",
   "execution_count": 25,
   "metadata": {},
   "outputs": [
    {
     "data": {
      "text/plain": [
       "Model Summary Available with `coeftable(model)`\n"
      ]
     },
     "execution_count": 25,
     "metadata": {},
     "output_type": "execute_result"
    }
   ],
   "source": [
    "model = UEM.uem(estimator, fm, df, Effect = Effect)"
   ]
  },
  {
   "cell_type": "markdown",
   "metadata": {},
   "source": [
    "### CoefTable\n",
    "\n",
    "- `nobs`: Number of observations\n",
    "- `N`: Number of observations used for estimation\n",
    "- `n`: Number of panels\n",
    "- `T`: Length of panels [min, max] and T̄ is the harmonic mean\n",
    "- `Wald Test`: Using the variance-covariance requested\n",
    "- `R²`: Coefficient of Determination\n",
    "- `β`: Coefficient Estimated"
   ]
  },
  {
   "cell_type": "code",
   "execution_count": 26,
   "metadata": {
    "collapsed": true
   },
   "outputs": [],
   "source": [
    "#VCE = :OLS # OLS Variance-covariance estimator\n",
    "#VCE = :HC0 # HC0 Variance-covariance estimator\n",
    "#VCE = :HC1 # HC1 Variance-covariance estimator\n",
    "#VCE = :HC2 # HC2 Variance-covariance estimator\n",
    "#VCE = :HC3 # HC3 Variance-covariance estimator\n",
    "#VCE = :HC4 # HC4 Variance-covariance estimator\n",
    "#VCE = :PID # Clustered at Panel ID Variance-covariance estimator\n",
    "#VCE = :TID # Clustered at Temporal ID Variance-covariance estimator\n",
    "#VCE = :PTID # Clustered at Panel and Temporal Dimensions Variance-covariance estimator"
   ]
  },
  {
   "cell_type": "code",
   "execution_count": 27,
   "metadata": {},
   "outputs": [
    {
     "name": "stdout",
     "output_type": "stream",
     "text": [
      "One-Way (Cross-Sectional) Unobserved Effects Model\n",
      "Estimator: Fixed Effects Estimator\n",
      "Formula: CRMRTE ~ PrbConv + PrbPris + Density\n",
      "nobs: 630, N: 630, n: 90, T ∈ [7, 7], T̄: 7.00\n",
      "Wald Test: F(3, 537) = 0.20, Prob > F = 0.8931\n",
      "R²: 0.0011\n",
      "Variance-covariance estimator: OLS\n",
      "0.95 Confidence Intervals\n"
     ]
    },
    {
     "data": {
      "text/plain": [
       "                  β    Std. Error   t   P > |t| Lower Bound Upper Bound\n",
       "(Intercept)   0.027572   0.006515  4.23   <1e-4    0.014775     0.04037\n",
       "PrbConv         8.0e-6   0.000198  0.04  0.9681   -0.000382    0.000398\n",
       "PrbPris      -0.001071   0.004053 -0.26  0.7950   -0.009031     0.00689\n",
       "Density       0.003222   0.004462  0.72  0.4718   -0.005544    0.011988\n"
      ]
     },
     "execution_count": 27,
     "metadata": {},
     "output_type": "execute_result"
    }
   ],
   "source": [
    "coeftable(model)"
   ]
  },
  {
   "cell_type": "markdown",
   "metadata": {},
   "source": [
    "### Few Tests of Violation of Assumptions"
   ]
  },
  {
   "cell_type": "code",
   "execution_count": 28,
   "metadata": {},
   "outputs": [
    {
     "name": "stdout",
     "output_type": "stream",
     "text": [
      "Breusch-Pagan / Cook-Weisberg test for heteroskedasticity\n",
      "\n",
      "\tHo: Constant variance\n",
      "\n",
      "\tF(1, 628) = 0.10\n",
      "\n",
      "\tProb > F = 0.7541\n"
     ]
    }
   ],
   "source": [
    "hettest(model)"
   ]
  },
  {
   "cell_type": "code",
   "execution_count": 29,
   "metadata": {},
   "outputs": [
    {
     "name": "stdout",
     "output_type": "stream",
     "text": [
      "Variance Inflation Factor:\n"
     ]
    },
    {
     "data": {
      "text/plain": [
       "              VIF\n",
       "PrbConv   1.00016\n",
       "PrbPris   1.00296\n",
       "Density   1.00282\n",
       "Mean VIF  1.00198\n"
      ]
     },
     "execution_count": 29,
     "metadata": {},
     "output_type": "execute_result"
    }
   ],
   "source": [
    "vif(model)"
   ]
  },
  {
   "cell_type": "code",
   "execution_count": 30,
   "metadata": {},
   "outputs": [
    {
     "name": "stdout",
     "output_type": "stream",
     "text": [
      "Esarey and Jaffe (2017) Direct Test for Consistency of Random Effects Model\n",
      "\n",
      "\tF(3, 87) = 29.32\n",
      "\n",
      "\tProb > F = 0.0000\n"
     ]
    }
   ],
   "source": [
    "UEM.fe_or_re(fm, df)"
   ]
  },
  {
   "cell_type": "markdown",
   "metadata": {},
   "source": [
    "### Common Statistics"
   ]
  },
  {
   "cell_type": "code",
   "execution_count": 23,
   "metadata": {},
   "outputs": [
    {
     "data": {
      "text/plain": [
       "1.1678086162461347"
      ]
     },
     "execution_count": 23,
     "metadata": {},
     "output_type": "execute_result"
    }
   ],
   "source": [
    "adjr2(model)"
   ]
  },
  {
   "cell_type": "code",
   "execution_count": 20,
   "metadata": {},
   "outputs": [
    {
     "data": {
      "text/plain": [
       "-4364.071422679073"
      ]
     },
     "execution_count": 20,
     "metadata": {},
     "output_type": "execute_result"
    }
   ],
   "source": [
    "aic(model)"
   ]
  },
  {
   "cell_type": "code",
   "execution_count": 21,
   "metadata": {},
   "outputs": [
    {
     "data": {
      "text/plain": [
       "-4332.205500891364"
      ]
     },
     "execution_count": 21,
     "metadata": {},
     "output_type": "execute_result"
    }
   ],
   "source": [
    "aicc(model)"
   ]
  },
  {
   "cell_type": "code",
   "execution_count": 22,
   "metadata": {},
   "outputs": [
    {
     "data": {
      "text/plain": [
       "-3955.0651992956"
      ]
     },
     "execution_count": 22,
     "metadata": {},
     "output_type": "execute_result"
    }
   ],
   "source": [
    "bic(model)"
   ]
  },
  {
   "cell_type": "markdown",
   "metadata": {},
   "source": [
    "### Extracting Model Values"
   ]
  },
  {
   "cell_type": "code",
   "execution_count": null,
   "metadata": {
    "collapsed": true
   },
   "outputs": [],
   "source": [
    "X = model_matrix(model)\n",
    "y = model_response(model)\n",
    "β = coef(model)\n",
    "ŷ = fitted(model)\n",
    "û = residuals(model)"
   ]
  },
  {
   "cell_type": "code",
   "execution_count": 32,
   "metadata": {},
   "outputs": [
    {
     "data": {
      "text/plain": [
       "Formula: CRMRTE ~ PrbConv + PrbPris + Density"
      ]
     },
     "execution_count": 32,
     "metadata": {},
     "output_type": "execute_result"
    }
   ],
   "source": [
    "get(model, :Formula)"
   ]
  },
  {
   "cell_type": "markdown",
   "metadata": {},
   "source": [
    "### Predict with new data"
   ]
  },
  {
   "cell_type": "code",
   "execution_count": 36,
   "metadata": {},
   "outputs": [
    {
     "ename": "LoadError",
     "evalue": "\u001b[91mtype UnobservedEffectsModelExogenous has no field Formula\u001b[39m",
     "output_type": "error",
     "traceback": [
      "\u001b[91mtype UnobservedEffectsModelExogenous has no field Formula\u001b[39m",
      "",
      "Stacktrace:",
      " [1] \u001b[1mpredict\u001b[22m\u001b[22m\u001b[1m(\u001b[22m\u001b[22m::UEM.UnobservedEffectsModelExogenous, ::DataFrames.DataFrame\u001b[1m)\u001b[22m\u001b[22m at \u001b[1m/Users/jbsc/.julia/v0.6/UEM/src/StatsBase/Methods.jl:67\u001b[22m\u001b[22m",
      " [2] \u001b[1minclude_string\u001b[22m\u001b[22m\u001b[1m(\u001b[22m\u001b[22m::String, ::String\u001b[1m)\u001b[22m\u001b[22m at \u001b[1m./loading.jl:515\u001b[22m\u001b[22m"
     ]
    }
   ],
   "source": [
    "NewFitted = predict(model, df[1:(end - 1),:])"
   ]
  },
  {
   "cell_type": "markdown",
   "metadata": {},
   "source": [
    "### Using other data sets"
   ]
  },
  {
   "cell_type": "markdown",
   "metadata": {},
   "source": [
    "One can use other longitudinal `RDatasets` from the `RDatasets` package like follow:"
   ]
  },
  {
   "cell_type": "code",
   "execution_count": null,
   "metadata": {
    "collapsed": true
   },
   "outputs": [],
   "source": [
    "RDatasets.datasets(\"plm\")"
   ]
  },
  {
   "cell_type": "code",
   "execution_count": null,
   "metadata": {
    "collapsed": true
   },
   "outputs": [],
   "source": [
    "dataset(\"plm\", \"Grunfeld\")[1:5,:]\n",
    "# Newdf = dataset(\"plm\", \"Grunfeld\") # to assign in"
   ]
  },
  {
   "cell_type": "markdown",
   "metadata": {},
   "source": [
    "Likewise you may wish to import a CSV file like this:"
   ]
  },
  {
   "cell_type": "code",
   "execution_count": null,
   "metadata": {
    "collapsed": true
   },
   "outputs": [],
   "source": [
    "name_of_file_in_path = \"\"\n",
    "#Other_df = readtable(name_of_file_in_path)"
   ]
  },
  {
   "cell_type": "markdown",
   "metadata": {},
   "source": [
    "By default the first column is the *Panel ID* and the second one is the *Temporal ID*. To overide this just use the following:"
   ]
  },
  {
   "cell_type": "code",
   "execution_count": null,
   "metadata": {
    "collapsed": true
   },
   "outputs": [],
   "source": [
    "PID = :Company; TID = :Year; # Change the names depending on the data set."
   ]
  },
  {
   "cell_type": "markdown",
   "metadata": {},
   "source": [
    "Likewise for categorical variables make sure to code them as such as:  `pool!(df, [:categorical1, :categorical2])`"
   ]
  },
  {
   "cell_type": "code",
   "execution_count": null,
   "metadata": {
    "collapsed": true
   },
   "outputs": [],
   "source": [
    "#OtherModel = uem(estimator, fm, df, PID = PID, TID = TID)"
   ]
  },
  {
   "cell_type": "code",
   "execution_count": null,
   "metadata": {
    "collapsed": true
   },
   "outputs": [],
   "source": []
  }
 ],
 "metadata": {
  "kernelspec": {
   "display_name": "Julia 0.6.0",
   "language": "julia",
   "name": "julia-0.6"
  },
  "language_info": {
   "file_extension": ".jl",
   "mimetype": "application/julia",
   "name": "julia",
   "version": "0.6.0"
  }
 },
 "nbformat": 4,
 "nbformat_minor": 2
}
