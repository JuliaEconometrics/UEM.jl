{
 "cells": [
  {
   "cell_type": "code",
   "execution_count": 1,
   "metadata": {
    "collapsed": true
   },
   "outputs": [],
   "source": [
    "#Pkg.update()"
   ]
  },
  {
   "cell_type": "code",
   "execution_count": 33,
   "metadata": {},
   "outputs": [],
   "source": [
    "#Pkg.rm(\"UEM\")"
   ]
  },
  {
   "cell_type": "code",
   "execution_count": 35,
   "metadata": {},
   "outputs": [],
   "source": [
    "#Pkg.clone(\"https://github.com/JuliaEconometrics/UEM.jl.git\")"
   ]
  },
  {
   "cell_type": "code",
   "execution_count": 36,
   "metadata": {},
   "outputs": [],
   "source": [
    "#Pkg.add(\"RDatasets\")"
   ]
  },
  {
   "cell_type": "code",
   "execution_count": 37,
   "metadata": {},
   "outputs": [],
   "source": [
    "using DataFrames, RDatasets, UEM"
   ]
  },
  {
   "cell_type": "code",
   "execution_count": 7,
   "metadata": {},
   "outputs": [
    {
     "data": {
      "text/html": [
       "<table class=\"data-frame\"><thead><tr><th></th><th>County</th><th>Year</th><th>CRMRTE</th><th>PrBarr</th><th>PrbConv</th><th>PrbPris</th><th>AvgSen</th><th>PolPC</th><th>Density</th><th>TaxPC</th><th>Region</th><th>SMSA</th><th>PctMin</th><th>WCon</th><th>WTuc</th><th>WTrd</th><th>WFir</th><th>WSer</th><th>WMfg</th><th>WFed</th><th>WSta</th><th>WLoc</th><th>Mix</th><th>PctYMle</th></tr></thead><tbody><tr><th>1</th><td>1</td><td>81</td><td>0.0398849</td><td>0.289696</td><td>0.402062</td><td>0.472222</td><td>5.61</td><td>0.0017868</td><td>2.307159</td><td>25.69763</td><td>central</td><td>no</td><td>20.2187</td><td>206.4803</td><td>333.6209</td><td>182.333</td><td>272.4492</td><td>215.7335</td><td>229.12</td><td>409.37</td><td>236.24</td><td>231.47</td><td>0.0999179</td><td>0.0876968</td></tr><tr><th>2</th><td>1</td><td>82</td><td>0.0383449</td><td>0.338111</td><td>0.433005</td><td>0.506993</td><td>5.59</td><td>0.0017666</td><td>2.330254</td><td>24.87425</td><td>central</td><td>no</td><td>20.2187</td><td>212.7542</td><td>369.2964</td><td>189.5414</td><td>300.8788</td><td>231.5767</td><td>240.33</td><td>419.7</td><td>253.88</td><td>236.79</td><td>0.1030491</td><td>0.0863767</td></tr><tr><th>3</th><td>1</td><td>83</td><td>0.0303048</td><td>0.330449</td><td>0.525703</td><td>0.479705</td><td>5.8</td><td>0.0018358</td><td>2.341801</td><td>26.45144</td><td>central</td><td>no</td><td>20.2187</td><td>219.7802</td><td>1394.803</td><td>196.6395</td><td>309.9696</td><td>240.1568</td><td>269.7</td><td>438.85</td><td>250.36</td><td>248.58</td><td>0.0806787</td><td>0.0850909</td></tr><tr><th>4</th><td>1</td><td>84</td><td>0.0347259</td><td>0.362525</td><td>0.604706</td><td>0.520104</td><td>6.89</td><td>0.0018859</td><td>2.34642</td><td>26.84235</td><td>central</td><td>no</td><td>20.2187</td><td>223.4238</td><td>398.8604</td><td>200.5629</td><td>350.0863</td><td>252.4477</td><td>281.74</td><td>459.17</td><td>261.93</td><td>264.38</td><td>0.0785035</td><td>0.0838333</td></tr><tr><th>5</th><td>1</td><td>85</td><td>0.036573</td><td>0.325395</td><td>0.578723</td><td>0.497059</td><td>6.55</td><td>0.0019244</td><td>2.364896</td><td>28.14034</td><td>central</td><td>no</td><td>20.2187</td><td>243.7562</td><td>358.783</td><td>206.8827</td><td>383.0707</td><td>261.0861</td><td>298.88</td><td>490.43</td><td>281.44</td><td>288.58</td><td>0.0932486</td><td>0.0823065</td></tr></tbody></table>"
      ],
      "text/plain": [
       "5×24 DataFrames.DataFrame\n",
       "│ Row │ County │ Year │ CRMRTE    │ PrBarr   │ PrbConv  │ PrbPris  │ AvgSen │\n",
       "├─────┼────────┼──────┼───────────┼──────────┼──────────┼──────────┼────────┤\n",
       "│ 1   │ 1      │ 81   │ 0.0398849 │ 0.289696 │ 0.402062 │ 0.472222 │ 5.61   │\n",
       "│ 2   │ 1      │ 82   │ 0.0383449 │ 0.338111 │ 0.433005 │ 0.506993 │ 5.59   │\n",
       "│ 3   │ 1      │ 83   │ 0.0303048 │ 0.330449 │ 0.525703 │ 0.479705 │ 5.8    │\n",
       "│ 4   │ 1      │ 84   │ 0.0347259 │ 0.362525 │ 0.604706 │ 0.520104 │ 6.89   │\n",
       "│ 5   │ 1      │ 85   │ 0.036573  │ 0.325395 │ 0.578723 │ 0.497059 │ 6.55   │\n",
       "\n",
       "│ Row │ PolPC     │ Density │ TaxPC   │ Region    │ SMSA │ PctMin  │ WCon    │\n",
       "├─────┼───────────┼─────────┼─────────┼───────────┼──────┼─────────┼─────────┤\n",
       "│ 1   │ 0.0017868 │ 2.30716 │ 25.6976 │ \"central\" │ \"no\" │ 20.2187 │ 206.48  │\n",
       "│ 2   │ 0.0017666 │ 2.33025 │ 24.8742 │ \"central\" │ \"no\" │ 20.2187 │ 212.754 │\n",
       "│ 3   │ 0.0018358 │ 2.3418  │ 26.4514 │ \"central\" │ \"no\" │ 20.2187 │ 219.78  │\n",
       "│ 4   │ 0.0018859 │ 2.34642 │ 26.8423 │ \"central\" │ \"no\" │ 20.2187 │ 223.424 │\n",
       "│ 5   │ 0.0019244 │ 2.3649  │ 28.1403 │ \"central\" │ \"no\" │ 20.2187 │ 243.756 │\n",
       "\n",
       "│ Row │ WTuc    │ WTrd    │ WFir    │ WSer    │ WMfg   │ WFed   │ WSta   │\n",
       "├─────┼─────────┼─────────┼─────────┼─────────┼────────┼────────┼────────┤\n",
       "│ 1   │ 333.621 │ 182.333 │ 272.449 │ 215.733 │ 229.12 │ 409.37 │ 236.24 │\n",
       "│ 2   │ 369.296 │ 189.541 │ 300.879 │ 231.577 │ 240.33 │ 419.7  │ 253.88 │\n",
       "│ 3   │ 1394.8  │ 196.639 │ 309.97  │ 240.157 │ 269.7  │ 438.85 │ 250.36 │\n",
       "│ 4   │ 398.86  │ 200.563 │ 350.086 │ 252.448 │ 281.74 │ 459.17 │ 261.93 │\n",
       "│ 5   │ 358.783 │ 206.883 │ 383.071 │ 261.086 │ 298.88 │ 490.43 │ 281.44 │\n",
       "\n",
       "│ Row │ WLoc   │ Mix       │ PctYMle   │\n",
       "├─────┼────────┼───────────┼───────────┤\n",
       "│ 1   │ 231.47 │ 0.0999179 │ 0.0876968 │\n",
       "│ 2   │ 236.79 │ 0.103049  │ 0.0863767 │\n",
       "│ 3   │ 248.58 │ 0.0806787 │ 0.0850909 │\n",
       "│ 4   │ 264.38 │ 0.0785035 │ 0.0838333 │\n",
       "│ 5   │ 288.58 │ 0.0932486 │ 0.0823065 │"
      ]
     },
     "execution_count": 7,
     "metadata": {},
     "output_type": "execute_result"
    }
   ],
   "source": [
    "df = dataset(\"plm\",\"Crime\")\n",
    "pool!(df, [:Region, :SMSA])\n",
    "df[1:5,:]"
   ]
  },
  {
   "cell_type": "markdown",
   "metadata": {},
   "source": [
    "A formula is formed with the following structure: `@formula(response ~ X1 + X2 + X3)`...\n",
    "\n",
    "For interactions use: `X1 * X2` or `X3 & X4` depending on whether you want to include main effects as well."
   ]
  },
  {
   "cell_type": "markdown",
   "metadata": {},
   "source": [
    "##### You can choose a different formula, Effect, Estimator, and Variance-Covariance Estimator"
   ]
  },
  {
   "cell_type": "code",
   "execution_count": 8,
   "metadata": {},
   "outputs": [
    {
     "data": {
      "text/plain": [
       "Formula: CRMRTE ~ PrbConv + PrbPris + Density"
      ]
     },
     "execution_count": 8,
     "metadata": {},
     "output_type": "execute_result"
    }
   ],
   "source": [
    "fm = @formula(CRMRTE ~ PrbConv + PrbPris + Density)"
   ]
  },
  {
   "cell_type": "code",
   "execution_count": 9,
   "metadata": {},
   "outputs": [
    {
     "data": {
      "text/plain": [
       ":PO"
      ]
     },
     "execution_count": 9,
     "metadata": {},
     "output_type": "execute_result"
    }
   ],
   "source": [
    "estimator = :PO # Pooling OLS\n",
    "#estimator = :FD # First-Difference\n",
    "#estimator = :BE # Between\n",
    "#estimator = :FE # Fixed Effects\n",
    "#estimator = :RE # Random Effects"
   ]
  },
  {
   "cell_type": "code",
   "execution_count": 10,
   "metadata": {},
   "outputs": [
    {
     "data": {
      "text/plain": [
       ":Panel"
      ]
     },
     "execution_count": 10,
     "metadata": {},
     "output_type": "execute_result"
    }
   ],
   "source": [
    "Effect = :Panel\n",
    "#Effect = :Temporal\n",
    "#Effect = :TwoWays"
   ]
  },
  {
   "cell_type": "code",
   "execution_count": 11,
   "metadata": {},
   "outputs": [
    {
     "data": {
      "text/plain": [
       "Model Summary Available with `coeftable(model)`\n"
      ]
     },
     "execution_count": 11,
     "metadata": {},
     "output_type": "execute_result"
    }
   ],
   "source": [
    "model = uem(estimator, fm, df, Effect = Effect)"
   ]
  },
  {
   "cell_type": "markdown",
   "metadata": {},
   "source": [
    "### CoefTable\n",
    "\n",
    "- `nobs`: Number of observations\n",
    "- `N`: Number of observations used for estimation\n",
    "- `n`: Number of panels\n",
    "- `T`: Length of panels [min, max] and T̄ is the harmonic mean\n",
    "- `Wald Test`: Using the variance-covariance requested\n",
    "- `R²`: Coefficient of Determination\n",
    "- `β`: Coefficient Estimated"
   ]
  },
  {
   "cell_type": "code",
   "execution_count": 12,
   "metadata": {
    "collapsed": true
   },
   "outputs": [],
   "source": [
    "#VCE = :OLS # OLS Variance-covariance estimator\n",
    "#VCE = :HC0 # HC0 Variance-covariance estimator\n",
    "#VCE = :HC1 # HC1 Variance-covariance estimator\n",
    "#VCE = :HC2 # HC2 Variance-covariance estimator\n",
    "#VCE = :HC3 # HC3 Variance-covariance estimator\n",
    "#VCE = :HC4 # HC4 Variance-covariance estimator\n",
    "#VCE = :PID # Clustered at Panel ID Variance-covariance estimator\n",
    "#VCE = :TID # Clustered at Temporal ID Variance-covariance estimator\n",
    "#VCE = :PTID # Clustered at Panel and Temporal Dimensions Variance-covariance estimator"
   ]
  },
  {
   "cell_type": "code",
   "execution_count": 32,
   "metadata": {},
   "outputs": [
    {
     "name": "stdout",
     "output_type": "stream",
     "text": [
      "One-Way (Cross-Sectional) Unobserved Effects Model\n",
      "Estimator: Pooling Ordinary Least Squares Estimator\n",
      "Formula: CRMRTE ~ PrbConv + PrbPris + Density\n",
      "nobs: 630, N: 630, n: 90, T ∈ [7, 7], T̄: 7.00\n",
      "Wald Test: F(3, 626) = 195.15, Prob > F = 0.0000\n",
      "R²: 0.4833\n",
      "Variance-covariance estimator: OLS\n",
      "0.95 Confidence Intervals\n"
     ]
    },
    {
     "data": {
      "text/plain": [
       "                  β    Std. Error   t   P > |t| Lower Bound Upper Bound\n",
       "(Intercept)   0.017973   0.002613  6.88  <1e-10    0.012842    0.023104\n",
       "PrbConv      -0.000352    0.00031 -1.14  0.2547   -0.000961    0.000257\n",
       "PrbPris       0.004408   0.006051  0.73  0.4657   -0.007475    0.016291\n",
       "Density       0.008644   0.000369 23.43  <1e-86     0.00792    0.009369\n"
      ]
     },
     "execution_count": 32,
     "metadata": {},
     "output_type": "execute_result"
    }
   ],
   "source": [
    "coeftable(model)"
   ]
  },
  {
   "cell_type": "markdown",
   "metadata": {},
   "source": [
    "### Few Tests of Violation of Assumptions"
   ]
  },
  {
   "cell_type": "code",
   "execution_count": 43,
   "metadata": {},
   "outputs": [
    {
     "name": "stdout",
     "output_type": "stream",
     "text": [
      "Breusch-Pagan / Cook-Weisberg test for heteroskedasticity\n",
      "\n",
      "\tHo: Constant variance\n",
      "\n",
      "\tF(1, 628) = 1.49\n",
      "\n",
      "\tProb > F = 0.2225\n"
     ]
    }
   ],
   "source": [
    "hettest(model) # F-test variant"
   ]
  },
  {
   "cell_type": "code",
   "execution_count": 42,
   "metadata": {},
   "outputs": [
    {
     "name": "stdout",
     "output_type": "stream",
     "text": [
      "Variance Inflation Factor:\n"
     ]
    },
    {
     "data": {
      "text/plain": [
       "              VIF\n",
       "PrbConv   1.01389\n",
       "PrbPris   1.02823\n",
       "Density   1.04069\n",
       "Mean VIF   1.0276\n"
      ]
     },
     "execution_count": 42,
     "metadata": {},
     "output_type": "execute_result"
    }
   ],
   "source": [
    "vif(model) # Centered VIF"
   ]
  },
  {
   "cell_type": "code",
   "execution_count": 16,
   "metadata": {},
   "outputs": [
    {
     "name": "stdout",
     "output_type": "stream",
     "text": [
      "Esarey and Jaffe (2017) Direct Test for Consistency of Random Effects Model\n",
      "\n",
      "\tF(3, 87) = 29.32\n",
      "\n",
      "\tProb > F = 0.0000\n"
     ]
    }
   ],
   "source": [
    "fe_or_re(fm, df)"
   ]
  },
  {
   "cell_type": "markdown",
   "metadata": {},
   "source": [
    "### Common Statistics"
   ]
  },
  {
   "cell_type": "code",
   "execution_count": 41,
   "metadata": {},
   "outputs": [
    {
     "data": {
      "text/plain": [
       "0.5183820926511301"
      ]
     },
     "execution_count": 41,
     "metadata": {},
     "output_type": "execute_result"
    }
   ],
   "source": [
    "adjr2(model) # Wherry Formula I"
   ]
  },
  {
   "cell_type": "code",
   "execution_count": 18,
   "metadata": {},
   "outputs": [
    {
     "data": {
      "text/plain": [
       "-3676.539674754514"
      ]
     },
     "execution_count": 18,
     "metadata": {},
     "output_type": "execute_result"
    }
   ],
   "source": [
    "aic(model)"
   ]
  },
  {
   "cell_type": "code",
   "execution_count": 19,
   "metadata": {},
   "outputs": [
    {
     "data": {
      "text/plain": [
       "-3676.501336096367"
      ]
     },
     "execution_count": 19,
     "metadata": {},
     "output_type": "execute_result"
    }
   ],
   "source": [
    "aicc(model)"
   ]
  },
  {
   "cell_type": "code",
   "execution_count": 20,
   "metadata": {},
   "outputs": [
    {
     "data": {
      "text/plain": [
       "-3663.2025152963574"
      ]
     },
     "execution_count": 20,
     "metadata": {},
     "output_type": "execute_result"
    }
   ],
   "source": [
    "bic(model)"
   ]
  },
  {
   "cell_type": "markdown",
   "metadata": {},
   "source": [
    "### Extracting Model Values"
   ]
  },
  {
   "cell_type": "code",
   "execution_count": 38,
   "metadata": {},
   "outputs": [
    {
     "data": {
      "text/plain": [
       "5×4 Array{Float64,2}:\n",
       " 1.0  0.402062  0.472222  2.30716\n",
       " 1.0  0.433005  0.506993  2.33025\n",
       " 1.0  0.525703  0.479705  2.3418 \n",
       " 1.0  0.604706  0.520104  2.34642\n",
       " 1.0  0.578723  0.497059  2.3649 "
      ]
     },
     "execution_count": 38,
     "metadata": {},
     "output_type": "execute_result"
    }
   ],
   "source": [
    "X = model_matrix(model)\n",
    "y = model_response(model)\n",
    "β = coef(model)\n",
    "ŷ = fitted(model)\n",
    "û = residuals(model)\n",
    "X[1:5,:]"
   ]
  },
  {
   "cell_type": "markdown",
   "metadata": {},
   "source": [
    "### Predict with new data"
   ]
  },
  {
   "cell_type": "code",
   "execution_count": 39,
   "metadata": {},
   "outputs": [
    {
     "data": {
      "text/plain": [
       "6-element Array{Float64,1}:\n",
       " 0.0398566\n",
       " 0.0401986\n",
       " 0.0401454\n",
       " 0.0403356\n",
       " 0.0404029\n",
       " 0.0403538"
      ]
     },
     "execution_count": 39,
     "metadata": {},
     "output_type": "execute_result"
    }
   ],
   "source": [
    "NewFitted = predict(model, df[1:(end - 1),:])\n",
    "NewFitted[1:6]"
   ]
  },
  {
   "cell_type": "markdown",
   "metadata": {},
   "source": [
    "### Using other data sets"
   ]
  },
  {
   "cell_type": "markdown",
   "metadata": {},
   "source": [
    "One can use other longitudinal `RDatasets` from the `RDatasets` package like follow:"
   ]
  },
  {
   "cell_type": "code",
   "execution_count": 24,
   "metadata": {},
   "outputs": [
    {
     "data": {
      "text/html": [
       "<table class=\"data-frame\"><thead><tr><th></th><th>Package</th><th>Dataset</th><th>Title</th><th>Rows</th><th>Columns</th></tr></thead><tbody><tr><th>1</th><td>plm</td><td>Cigar</td><td>Cigarette Consumption</td><td>1380</td><td>9</td></tr><tr><th>2</th><td>plm</td><td>Crime</td><td>Crime in North Carolina</td><td>630</td><td>24</td></tr><tr><th>3</th><td>plm</td><td>EmplUK</td><td>Employment and Wages in the United Kingdom</td><td>1031</td><td>7</td></tr><tr><th>4</th><td>plm</td><td>Gasoline</td><td>Gasoline Consumption</td><td>342</td><td>6</td></tr><tr><th>5</th><td>plm</td><td>Grunfeld</td><td>Grunfeld's Investment Data</td><td>200</td><td>5</td></tr><tr><th>6</th><td>plm</td><td>Hedonic</td><td>Hedonic Prices of Census Tracts in the Boston Area</td><td>506</td><td>15</td></tr><tr><th>7</th><td>plm</td><td>LaborSupply</td><td>Wages and Hours Worked</td><td>5320</td><td>7</td></tr><tr><th>8</th><td>plm</td><td>Males</td><td>Wages and Education of Young Males</td><td>4360</td><td>12</td></tr><tr><th>9</th><td>plm</td><td>Produc</td><td>US States Production</td><td>816</td><td>10</td></tr><tr><th>10</th><td>plm</td><td>Snmesp</td><td>Employment and Wages in Spain</td><td>5904</td><td>8</td></tr><tr><th>11</th><td>plm</td><td>SumHes</td><td>The Penn World Table, v. 5</td><td>3250</td><td>7</td></tr><tr><th>12</th><td>plm</td><td>Wages</td><td>Panel Data of Individual Wages</td><td>4165</td><td>12</td></tr></tbody></table>"
      ],
      "text/plain": [
       "12×5 DataFrames.DataFrame\n",
       "│ Row │ Package │ Dataset       │\n",
       "├─────┼─────────┼───────────────┤\n",
       "│ 1   │ \"plm\"   │ \"Cigar\"       │\n",
       "│ 2   │ \"plm\"   │ \"Crime\"       │\n",
       "│ 3   │ \"plm\"   │ \"EmplUK\"      │\n",
       "│ 4   │ \"plm\"   │ \"Gasoline\"    │\n",
       "│ 5   │ \"plm\"   │ \"Grunfeld\"    │\n",
       "│ 6   │ \"plm\"   │ \"Hedonic\"     │\n",
       "│ 7   │ \"plm\"   │ \"LaborSupply\" │\n",
       "│ 8   │ \"plm\"   │ \"Males\"       │\n",
       "│ 9   │ \"plm\"   │ \"Produc\"      │\n",
       "│ 10  │ \"plm\"   │ \"Snmesp\"      │\n",
       "│ 11  │ \"plm\"   │ \"SumHes\"      │\n",
       "│ 12  │ \"plm\"   │ \"Wages\"       │\n",
       "\n",
       "│ Row │ Title                                                │ Rows │ Columns │\n",
       "├─────┼──────────────────────────────────────────────────────┼──────┼─────────┤\n",
       "│ 1   │ \"Cigarette Consumption\"                              │ 1380 │ 9       │\n",
       "│ 2   │ \"Crime in North Carolina\"                            │ 630  │ 24      │\n",
       "│ 3   │ \"Employment and Wages in the United Kingdom\"         │ 1031 │ 7       │\n",
       "│ 4   │ \"Gasoline Consumption\"                               │ 342  │ 6       │\n",
       "│ 5   │ \"Grunfeld's Investment Data\"                         │ 200  │ 5       │\n",
       "│ 6   │ \"Hedonic Prices of Census Tracts in the Boston Area\" │ 506  │ 15      │\n",
       "│ 7   │ \"Wages and Hours Worked\"                             │ 5320 │ 7       │\n",
       "│ 8   │ \"Wages and Education of Young Males\"                 │ 4360 │ 12      │\n",
       "│ 9   │ \"US States Production\"                               │ 816  │ 10      │\n",
       "│ 10  │ \"Employment and Wages in Spain\"                      │ 5904 │ 8       │\n",
       "│ 11  │ \"The Penn World Table, v. 5\"                         │ 3250 │ 7       │\n",
       "│ 12  │ \"Panel Data of Individual Wages\"                     │ 4165 │ 12      │"
      ]
     },
     "execution_count": 24,
     "metadata": {},
     "output_type": "execute_result"
    }
   ],
   "source": [
    "RDatasets.datasets(\"plm\")"
   ]
  },
  {
   "cell_type": "code",
   "execution_count": 25,
   "metadata": {},
   "outputs": [
    {
     "data": {
      "text/html": [
       "<table class=\"data-frame\"><thead><tr><th></th><th>Firm</th><th>Year</th><th>Inv</th><th>Value</th><th>Capital</th></tr></thead><tbody><tr><th>1</th><td>1</td><td>1935</td><td>317.6</td><td>3078.5</td><td>2.8</td></tr><tr><th>2</th><td>1</td><td>1936</td><td>391.8</td><td>4661.7</td><td>52.6</td></tr><tr><th>3</th><td>1</td><td>1937</td><td>410.6</td><td>5387.1</td><td>156.9</td></tr><tr><th>4</th><td>1</td><td>1938</td><td>257.7</td><td>2792.2</td><td>209.2</td></tr><tr><th>5</th><td>1</td><td>1939</td><td>330.8</td><td>4313.2</td><td>203.4</td></tr></tbody></table>"
      ],
      "text/plain": [
       "5×5 DataFrames.DataFrame\n",
       "│ Row │ Firm │ Year │ Inv   │ Value  │ Capital │\n",
       "├─────┼──────┼──────┼───────┼────────┼─────────┤\n",
       "│ 1   │ 1    │ 1935 │ 317.6 │ 3078.5 │ 2.8     │\n",
       "│ 2   │ 1    │ 1936 │ 391.8 │ 4661.7 │ 52.6    │\n",
       "│ 3   │ 1    │ 1937 │ 410.6 │ 5387.1 │ 156.9   │\n",
       "│ 4   │ 1    │ 1938 │ 257.7 │ 2792.2 │ 209.2   │\n",
       "│ 5   │ 1    │ 1939 │ 330.8 │ 4313.2 │ 203.4   │"
      ]
     },
     "execution_count": 25,
     "metadata": {},
     "output_type": "execute_result"
    }
   ],
   "source": [
    "dataset(\"plm\", \"Grunfeld\")[1:5,:]\n",
    "# Newdf = dataset(\"plm\", \"Grunfeld\") # to assign in"
   ]
  },
  {
   "cell_type": "markdown",
   "metadata": {},
   "source": [
    "Likewise you may wish to import a CSV file like this:"
   ]
  },
  {
   "cell_type": "code",
   "execution_count": 29,
   "metadata": {},
   "outputs": [
    {
     "data": {
      "text/plain": [
       "\"\""
      ]
     },
     "execution_count": 29,
     "metadata": {},
     "output_type": "execute_result"
    }
   ],
   "source": [
    "name_of_file_in_path = \"\"\n",
    "#Other_df = readtable(name_of_file_in_path)"
   ]
  },
  {
   "cell_type": "markdown",
   "metadata": {},
   "source": [
    "By default the first column is the *Panel ID* and the second one is the *Temporal ID*. To overide this just use the following:"
   ]
  },
  {
   "cell_type": "code",
   "execution_count": 30,
   "metadata": {
    "collapsed": true
   },
   "outputs": [],
   "source": [
    "PID = :Company; TID = :Year; # Change the names depending on the data set."
   ]
  },
  {
   "cell_type": "markdown",
   "metadata": {},
   "source": [
    "Likewise for categorical variables make sure to code them as such as:  `pool!(df, [:categorical1, :categorical2])`"
   ]
  },
  {
   "cell_type": "code",
   "execution_count": 31,
   "metadata": {
    "collapsed": true
   },
   "outputs": [],
   "source": [
    "#OtherModel = uem(estimator, fm, df, PID = PID, TID = TID)"
   ]
  },
  {
   "cell_type": "code",
   "execution_count": null,
   "metadata": {
    "collapsed": true
   },
   "outputs": [],
   "source": []
  }
 ],
 "metadata": {
  "kernelspec": {
   "display_name": "Julia 0.6.0",
   "language": "julia",
   "name": "julia-0.6"
  },
  "language_info": {
   "file_extension": ".jl",
   "mimetype": "application/julia",
   "name": "julia",
   "version": "0.6.0"
  }
 },
 "nbformat": 4,
 "nbformat_minor": 2
}
